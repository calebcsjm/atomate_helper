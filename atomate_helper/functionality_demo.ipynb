{
 "cells": [
  {
   "cell_type": "markdown",
   "source": [
    "This notebook is meant to demostrate some of the functionality of the functions we have defined in these various files"
   ],
   "metadata": {}
  },
  {
   "cell_type": "markdown",
   "source": [
    "## Functionality from helper_core.py:"
   ],
   "metadata": {}
  },
  {
   "cell_type": "code",
   "execution_count": 1,
   "source": [
    "from helper_core import get_material_ids\n",
    "from helper_core import get_material_id_count\n",
    "\n",
    "# get number of stuctures for each pretty formula from the materials database, prints dictionary\n",
    "get_material_id_count([\"BaS\", \"ZrO2\", \"NiS\"])\n",
    "\n",
    "# prints the list of mp-ids that go with each pretty formula\n",
    "print(get_material_ids(\"BaS\"))\n",
    "print(get_material_ids(\"ZrO2\"))\n",
    "print(get_material_ids(\"NiS\"))"
   ],
   "outputs": [
    {
     "output_type": "stream",
     "name": "stdout",
     "text": [
      "{'BaS': 1, 'ZrO2': 20, 'NiS': 2}\n",
      "['mp-1500']\n",
      "['mp-776404', 'mp-755759', 'mp-556605', 'mp-775910', 'mp-754403', 'mp-775909', 'mp-755769', 'mp-775980', 'mp-775935', 'mp-1245318', 'mp-776386', 'mp-963', 'mp-2574', 'mp-1565', 'mp-2858', 'mp-1190186', 'mp-776427', 'mp-1100824', 'mp-755089', 'mp-754741']\n",
      "['mp-594', 'mp-1547']\n"
     ]
    }
   ],
   "metadata": {}
  },
  {
   "cell_type": "markdown",
   "source": [
    "## Functionality from workflow_writers:"
   ],
   "metadata": {}
  },
  {
   "cell_type": "code",
   "execution_count": 2,
   "source": [
    "from fireworks import LaunchPad\n",
    "\n",
    "#import password\n",
    "with open(\"password.txt\",'r') as filename:\n",
    "    my_password = filename.readlines()[0]\n",
    "\n",
    "#create launchpad\n",
    "lp = LaunchPad(host=\"mongodb+srv://cluster0.9esxz.mongodb.net\", port=27017, \\\n",
    "name=\"introproj\", username=\"calebcsjm\", \\\n",
    "password=my_password, ssl=\"true\", authsource=\"admin\")"
   ],
   "outputs": [],
   "metadata": {}
  },
  {
   "cell_type": "code",
   "execution_count": 22,
   "source": [
    "from workflow_writers import add_dielectric_mpid, add_dielectric_prettyform\n",
    "# adds workflows for all the structures for list of pretty formulas \n",
    "print(add_dielectric_prettyform([\"NiS\", \"BaS\"], lp))\n",
    "# similar, but for a list of mp-ids - a narrower approach\n",
    "print(add_dielectric_mpid([\"mp-594\",\"mp-1547\"], lp))\n"
   ],
   "outputs": [
    {
     "output_type": "stream",
     "name": "stdout",
     "text": [
      "2021-07-26 15:06:38,272 INFO Added a workflow. id_map: {-16: 31, -15: 32}\n",
      "2021-07-26 15:06:39,627 INFO Added a workflow. id_map: {-18: 33, -17: 34}\n",
      "2021-07-26 15:06:41,964 INFO Added a workflow. id_map: {-20: 35, -19: 36}\n",
      "['31/32: NiS mp-594  dielectric', '33/34: NiS mp-1547  dielectric', '35/36: BaS mp-1500  dielectric']\n",
      "2021-07-26 15:06:43,321 INFO Added a workflow. id_map: {-22: 37, -21: 38}\n",
      "2021-07-26 15:06:44,672 INFO Added a workflow. id_map: {-24: 39, -23: 40}\n",
      "['37/38:  mp-594  dielectric', '39/40:  mp-1547  dielectric']\n"
     ]
    }
   ],
   "metadata": {}
  },
  {
   "cell_type": "code",
   "execution_count": 24,
   "source": [
    "from workflow_writers import add_gibbs_mpid\n",
    "print(add_gibbs_mpid([\"mp-594\",\"mp-1547\"], lp))"
   ],
   "outputs": [
    {
     "output_type": "stream",
     "name": "stdout",
     "text": [
      "2021-07-26 15:08:49,229 INFO Added a workflow. id_map: {-33: 41, -32: 42, -31: 43, -30: 44, -29: 45, -28: 46, -27: 47, -26: 48, -25: 49}\n",
      "2021-07-26 15:08:50,877 INFO Added a workflow. id_map: {-42: 50, -41: 51, -40: 52, -39: 53, -38: 54, -37: 55, -36: 56, -35: 57, -34: 58}\n",
      "['41/42/43/44/45/46/47/48/49:  mp-594  gibbs', '50/51/52/53/54/55/56/57/58:  mp-1547  gibbs']\n"
     ]
    }
   ],
   "metadata": {}
  },
  {
   "cell_type": "markdown",
   "source": [
    "## Functionality from query_properties:"
   ],
   "metadata": {}
  },
  {
   "cell_type": "code",
   "execution_count": 3,
   "source": [
    "from query_properties import get_epsilon_staticM_mpid, get_epsilon_staticM_prettyform\n",
    "dbjson_path = \"/Users/calebharding/Documents/Research/atomate_helper/atomate_helper/db.json\"\n",
    "\n",
    "print(get_epsilon_staticM_mpid([\"mp-594\", \"mp-1547\"], dbjson_path))\n",
    "print(get_epsilon_staticM_prettyform(['NiS'], dbjson_path))\n"
   ],
   "outputs": [
    {
     "output_type": "stream",
     "name": "stdout",
     "text": [
      " KeyError: mp-1547 does not have the results of a dielectric run. If you believe this is an error, you may need to run the builder again.\n",
      "{'mp-594': array([[1.00000011, 0.        , 0.        ],\n",
      "       [0.        , 0.99999989, 0.        ],\n",
      "       [0.        , 0.        , 1.        ]])}\n",
      " KeyError: mp-1547 does not have the results of a dielectric run. If you believe this is an error, you may need to run the builder again.\n",
      "{'mp-594': array([[1.00000011, 0.        , 0.        ],\n",
      "       [0.        , 0.99999989, 0.        ],\n",
      "       [0.        , 0.        , 1.        ]])}\n"
     ]
    }
   ],
   "metadata": {}
  },
  {
   "cell_type": "code",
   "execution_count": null,
   "source": [],
   "outputs": [],
   "metadata": {}
  }
 ],
 "metadata": {
  "orig_nbformat": 4,
  "language_info": {
   "name": "python",
   "version": "3.9.2",
   "mimetype": "text/x-python",
   "codemirror_mode": {
    "name": "ipython",
    "version": 3
   },
   "pygments_lexer": "ipython3",
   "nbconvert_exporter": "python",
   "file_extension": ".py"
  },
  "kernelspec": {
   "name": "python3",
   "display_name": "Python 3.9.2 64-bit ('.atomate_env': venv)"
  },
  "interpreter": {
   "hash": "be90f2b678ead8b93f3343d655642d07596f1a3e3ac81fecd9087eb786d9bc53"
  }
 },
 "nbformat": 4,
 "nbformat_minor": 2
}