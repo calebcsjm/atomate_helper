{
 "cells": [
  {
   "cell_type": "code",
   "execution_count": 1,
   "source": [
    "from helper_core import get_material_id_count\n",
    "Kriven_list = ['ZrO2','NiS', 'Ln2O3','LnBO3','LuBO3','HfO2','Ln2O3', \\\n",
    "        'Ca2SiO4','Sr2SiO4','PbTiO3','KNbO3','LuBO3','MgSiO3', \\\n",
    "        'CaSiO3','FeSiO3','YNbO4','LnNbO4','LnBO3','SiO2','BaAl2Si2O8','KAlSi2O6',  \\\n",
    "        'ZrSiO4','Ln4Al2O9','Ln2TiO5','Ba2TiO4','CeSiO4','Al2TiO5','LiPO4','LnVO4', \\\n",
    "        'GdVO4','BaS','BN','C']\n",
    "get_material_id_count(Kriven_list)"
   ],
   "outputs": [
    {
     "output_type": "stream",
     "name": "stdout",
     "text": [
      "hello world\n"
     ]
    }
   ],
   "metadata": {}
  },
  {
   "cell_type": "code",
   "execution_count": null,
   "source": [],
   "outputs": [],
   "metadata": {}
  }
 ],
 "metadata": {
  "orig_nbformat": 4,
  "language_info": {
   "name": "python",
   "version": "3.9.2",
   "mimetype": "text/x-python",
   "codemirror_mode": {
    "name": "ipython",
    "version": 3
   },
   "pygments_lexer": "ipython3",
   "nbconvert_exporter": "python",
   "file_extension": ".py"
  },
  "kernelspec": {
   "name": "python3",
   "display_name": "Python 3.9.2 64-bit ('.atomate_env': venv)"
  },
  "interpreter": {
   "hash": "be90f2b678ead8b93f3343d655642d07596f1a3e3ac81fecd9087eb786d9bc53"
  }
 },
 "nbformat": 4,
 "nbformat_minor": 2
}